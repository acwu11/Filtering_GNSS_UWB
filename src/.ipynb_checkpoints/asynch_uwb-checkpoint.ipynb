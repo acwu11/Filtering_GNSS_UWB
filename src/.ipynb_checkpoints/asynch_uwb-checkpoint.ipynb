{
 "cells": [
  {
   "cell_type": "code",
   "execution_count": 79,
   "metadata": {},
   "outputs": [],
   "source": [
    "import numpy as np\n",
    "import math\n",
    "import matplotlib.pyplot as plt\n",
    "import pandas as pd"
   ]
  },
  {
   "cell_type": "code",
   "execution_count": 82,
   "metadata": {},
   "outputs": [],
   "source": [
    "# Generate linear trajectory \n",
    "dt_uwb = 0.01   # uwb rate [s]\n",
    "dt_gps = 0.1    # gps rate [s]\n",
    "\n",
    "T = 500\n",
    "tvec = np.arange(0, T, dt_uwb)\n",
    "tvec_coarse = np.arange(0, T, dt_gps)\n",
    "\n",
    "x0 = np.array([-2634636.3307453846, -4162082.2465598010, 4038273.5847163610]) # ECEF\n",
    "vl = np.array([3, 4, 1]) # [m / s]\n",
    "vf = np.array([3, 4, 1]) # [m / s]\n",
    "\n",
    "lead_traj_fine = np.zeros((len(tvec), 3))\n",
    "foll_traj_fine = np.zeros((len(tvec), 3))\n",
    "lead_traj_fine[0, :] = x0\n",
    "foll_traj_fine[0, :] = x0\n",
    "\n",
    "uwb = np.zeros((len(tvec), 1))\n",
    "\n",
    "xl = x0;\n",
    "xf = x0;\n",
    "for t in range(1, len(tvec)):\n",
    "    if t < 1 / dt_uwb:\n",
    "        xf = x0\n",
    "    else:\n",
    "        xf = xf + dt_uwb * vf\n",
    "    xl = xl + dt_uwb * vl\n",
    "    lead_traj_fine[t, :] = xl\n",
    "    foll_traj_fine[t, :] = xf\n",
    "    \n",
    "    uwb[t] = np.linalg.norm(xl - xf)\n",
    "\n",
    "lead_traj_coarse = np.zeros((len(tvec_coarse), 4))\n",
    "foll_traj_coarse = np.zeros((len(tvec_coarse), 4))\n",
    "lead_traj_coarse[0, :] = np.insert(x0, 0, 0)\n",
    "foll_traj_coarse[0, :] = np.insert(x0, 0, 0)\n",
    "xl = x0;\n",
    "xf = x0;   \n",
    "for t in range(1, len(tvec_coarse)):\n",
    "    if t < 1 / dt_gps:\n",
    "        xf = x0\n",
    "    else:\n",
    "        xf = xf + dt_uwb * vf\n",
    "    xl = xl + dt_uwb * vl\n",
    "    lead_traj_coarse[t, :] = np.insert(xl, 0, tvec_coarse[t])\n",
    "    foll_traj_coarse[t, :] = np.insert(xf, 0, tvec_coarse[t])\n",
    "\n",
    "df = pd.DataFrame(lead_traj_coarse)\n",
    "df.to_csv('leader.csv', header=False, index=False)\n",
    "\n",
    "df = pd.DataFrame(foll_traj_coarse)\n",
    "df.to_csv('follower.csv', header=False, index=False)\n",
    "\n",
    "df = pd.DataFrame(uwb)\n",
    "df.to_csv('uwb.csv', header=False, index=False)\n",
    "        "
   ]
  },
  {
   "cell_type": "code",
   "execution_count": 77,
   "metadata": {},
   "outputs": [
    {
     "data": {
      "text/plain": [
       "[<matplotlib.lines.Line2D at 0x1b04b8a9b50>]"
      ]
     },
     "execution_count": 77,
     "metadata": {},
     "output_type": "execute_result"
    },
    {
     "data": {
      "image/png": "[encoded data removed]",
      "text/plain": [
       "<Figure size 432x288 with 1 Axes>"
      ]
     },
     "metadata": {
      "needs_background": "light"
     },
     "output_type": "display_data"
    }
   ],
   "source": [
    "plt.figure()\n",
    "plt.plot(lead_traj_fine[:, 0], lead_traj_fine[:, 1])\n",
    "plt.plot(foll_traj_fine[:, 0], foll_traj_fine[:, 1])\n"
   ]
  },
  {
   "cell_type": "code",
   "execution_count": 78,
   "metadata": {},
   "outputs": [
    {
     "data": {
      "text/plain": [
       "[<matplotlib.lines.Line2D at 0x1b04b3f2790>]"
      ]
     },
     "execution_count": 78,
     "metadata": {},
     "output_type": "execute_result"
    },
    {
     "data": {
      "image/png": "[encoded data removed]",
      "text/plain": [
       "<Figure size 432x288 with 1 Axes>"
      ]
     },
     "metadata": {
      "needs_background": "light"
     },
     "output_type": "display_data"
    }
   ],
   "source": [
    "plt.figure()\n",
    "plt.plot(uwb)"
   ]
  },
  {
   "cell_type": "code",
   "execution_count": null,
   "metadata": {},
   "outputs": [],
   "source": []
  }
 ],
 "metadata": {
  "kernelspec": {
   "display_name": "Python 3",
   "language": "python",
   "name": "python3"
  },
  "language_info": {
   "codemirror_mode": {
    "name": "ipython",
    "version": 3
   },
   "file_extension": ".py",
   "mimetype": "text/x-python",
   "name": "python",
   "nbconvert_exporter": "python",
   "pygments_lexer": "ipython3",
   "version": "3.8.3"
  }
 },
 "nbformat": 4,
 "nbformat_minor": 4
}
